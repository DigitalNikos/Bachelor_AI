{
 "cells": [
  {
   "cell_type": "code",
   "execution_count": null,
   "metadata": {},
   "outputs": [],
   "source": [
    "!pip install -q streamlit"
   ]
  },
  {
   "cell_type": "code",
   "execution_count": null,
   "metadata": {},
   "outputs": [],
   "source": [
    "!npm install localtunnel"
   ]
  },
  {
   "cell_type": "code",
   "execution_count": null,
   "metadata": {},
   "outputs": [],
   "source": [
    "# GPU setup of LangChain\n",
    "!CMAKE_ARGS=\"-DLLAMA_CUBLAS=on\" FORCE_CMAKE=1 pip install --force-reinstall llama-cpp-python==0.2.28  --no-cache-dir"
   ]
  },
  {
   "cell_type": "code",
   "execution_count": null,
   "metadata": {},
   "outputs": [],
   "source": [
    "!pip install huggingface_hub  chromadb langchain sentence-transformers pinecone_client"
   ]
  },
  {
   "cell_type": "code",
   "execution_count": null,
   "metadata": {},
   "outputs": [],
   "source": [
    "!wget https://huggingface.co/TheBloke/Llama-2-7b-Chat-GGUF/resolve/main/llama-2-7b-chat.Q5_0.gguf"
   ]
  },
  {
   "cell_type": "code",
   "execution_count": null,
   "metadata": {},
   "outputs": [],
   "source": [
    "import urllib\n",
    "import subprocess\n",
    "\n",
    "# Start Streamlit in the background and redirect its output to a log file\n",
    "get_ipython().system_raw('streamlit run app.py --server.address=localhost &>/content/logs.txt &')\n",
    "\n",
    "# Get the external IP address\n",
    "external_ip = urllib.request.urlopen('https://ipv4.icanhazip.com').read().decode('utf8').strip()\n",
    "\n",
    "# Start localtunnel and get the URL using Python subprocess\n",
    "lt_process = subprocess.Popen(['npx', 'localtunnel', '--port', '8501'], stdout=subprocess.PIPE, stderr=subprocess.PIPE, text=True)\n",
    "stdout, stderr = lt_process.communicate(timeout=30)  # Adjust timeout as necessary\n",
    "\n",
    "# Extract the localtunnel URL from the output\n",
    "import re\n",
    "match = re.search(r'https://\\S+', stdout)\n",
    "if match:\n",
    "    localtunnel_url = match.group(0)\n",
    "    print(f\"Streamlit app is running at: {localtunnel_url}\")\n",
    "else:\n",
    "    print(\"Failed to start localtunnel. Please check the logs.\")"
   ]
  }
 ],
 "metadata": {
  "language_info": {
   "name": "python"
  }
 },
 "nbformat": 4,
 "nbformat_minor": 2
}
